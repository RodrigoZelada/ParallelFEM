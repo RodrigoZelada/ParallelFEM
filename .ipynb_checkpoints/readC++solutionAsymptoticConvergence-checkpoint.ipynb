{
 "cells": [
  {
   "cell_type": "code",
   "execution_count": 1,
   "id": "b5ec9f99",
   "metadata": {},
   "outputs": [],
   "source": [
    "import matplotlib.pyplot as plt\n",
    "from pymedit import Mesh, P1Function, trunc\n",
    "import numpy as np"
   ]
  },
  {
   "cell_type": "code",
   "execution_count": null,
   "id": "a35e8bb5",
   "metadata": {},
   "outputs": [],
   "source": [
    "output = 'output/Ventcell'\n",
    "Th = Mesh(output+'/Th.mesh')\n",
    "Th.plot(boundary='all')\n",
    "Thepsilon = Mesh(output+'/Thepsilon.mesh')\n",
    "Thepsilon.plot(boundary='all')"
   ]
  },
  {
   "cell_type": "code",
   "execution_count": null,
   "id": "fa46ba58",
   "metadata": {
    "scrolled": false
   },
   "outputs": [],
   "source": [
    "T0 = P1Function(Th, output+\"/T0.sol\")\n",
    "T1 = P1Function(Th, output+\"/TD1.sol\")\n",
    "T2 = P1Function(Th, output+\"/TD2.sol\")\n",
    "Ts = P1Function(Thepsilon, output+\"/Ts.sol\")\n",
    "T0.plot()\n",
    "T1.plot()\n",
    "T2.plot()\n",
    "Ts.plot()"
   ]
  }
 ],
 "metadata": {
  "kernelspec": {
   "display_name": "Python 3 (ipykernel)",
   "language": "python",
   "name": "python3"
  },
  "language_info": {
   "codemirror_mode": {
    "name": "ipython",
    "version": 3
   },
   "file_extension": ".py",
   "mimetype": "text/x-python",
   "name": "python",
   "nbconvert_exporter": "python",
   "pygments_lexer": "ipython3",
   "version": "3.9.13"
  }
 },
 "nbformat": 4,
 "nbformat_minor": 5
}
